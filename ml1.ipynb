{
 "cells": [
  {
   "cell_type": "code",
   "execution_count": null,
   "id": "4ee9eda2",
   "metadata": {},
   "outputs": [],
   "source": [
    "import numpy as np\n",
    "import pandas as pd\n",
    "import matplotlib.pyplot as plt\n",
    "import pickle\n",
    "import re\n",
    "import nltk\n",
    "from nltk.corpus import stopwords\n",
    "from nltk.stem.porter import PorterStemmer\n",
    "from sklearn.feature_extraction.text import CountVectorizer\n",
    "from sklearn.model_selection import train_test_split\n",
    "from sklearn.tree import DecisionTreeClassifier\n",
    "from sklearn.ensemble import RandomForestClassifier\n",
    "from sklearn.naive_bayes import MultinomialNB\n",
    "from sklearn.metrics import confusion_matrix, accuracy_score, classification_report\n",
    "import seaborn as sns\n",
    "\n"
   ]
  },
  {
   "cell_type": "code",
   "execution_count": null,
   "id": "588b9ce0",
   "metadata": {},
   "outputs": [
    {
     "name": "stdout",
     "output_type": "stream",
     "text": [
      "Second dataset loaded successfully.\n",
      "Columns in second dataset: ['label', 'subject', 'email_to', 'email_from', 'message']\n"
     ]
    }
   ],
   "source": [
    "spam_data1 = pd.read_csv(r\"C:\\Users\\Mayank Aman\\Desktop\\SC Pbl\\spam.csv\", encoding=\"ISO-8859-1\")\n",
    "spam_data1 = spam_data1[['v1', 'v2']]\n",
    "spam_data1.columns = ['label', 'message']\n",
    "\n",
    "\n",
    "try:\n",
    "    spam_data2 = pd.read_csv(r\"C:\\Users\\Mayank Aman\\Desktop\\SC Pbl\\processed_data.csv\")\n",
    "    \n",
    "    \n",
    "    print(\"Second dataset loaded successfully.\")\n",
    "    print(\"Columns in second dataset:\", spam_data2.columns.tolist())\n",
    "\n",
    "    \n",
    "    spam = pd.concat([spam_data1, spam_data2], ignore_index=True)\n",
    "\n",
    "except FileNotFoundError:\n",
    "    print(\"Error: 'processed_data.csv' not found. Continuing with the original dataset only.\")\n",
    "    spam = spam_data1"
   ]
  },
  {
   "cell_type": "code",
   "execution_count": null,
   "id": "adb94e07",
   "metadata": {},
   "outputs": [
    {
     "name": "stdout",
     "output_type": "stream",
     "text": [
      "\n",
      "Total messages in the combined dataset: 71444\n",
      "Dataset preview after combining:\n",
      "     label                                            message  \\\n",
      "5572     1  Content-Type: text/html;\\nContent-Transfer-Enc...   \n",
      "5573     0  Hi, i've just updated from the gulus and I che...   \n",
      "5574     1  Content-Type: text/plain;\\n\\tcharset=\"iso-8859...   \n",
      "5575     1  Hey Billy, \\n\\nit was really fun going out the...   \n",
      "5576     1  Content-Type: multipart/alternative;\\n        ...   \n",
      "\n",
      "                                                subject  \\\n",
      "5572                  Generic Cialis, branded quality@    \n",
      "5573                             Typo in /debian/README   \n",
      "5574                                   authentic viagra   \n",
      "5575                               Nice talking with ya   \n",
      "5576  or trembling; stomach cramps; trouble in sleep...   \n",
      "\n",
      "                             email_to  \\\n",
      "5572        the00@speedy.uwaterloo.ca   \n",
      "5573  debian-mirrors@lists.debian.org   \n",
      "5574         <the00@plg.uwaterloo.ca>   \n",
      "5575         opt4@speedy.uwaterloo.ca   \n",
      "5576     ktwarwic@speedy.uwaterloo.ca   \n",
      "\n",
      "                                             email_from  \n",
      "5572                 \"Tomas Jacobs\" <RickyAmes@aol.com>  \n",
      "5573         Yan Morin <yan.morin@savoirfairelinux.com>  \n",
      "5574  \"Sheila Crenshaw\" <7stocknews@tractionmarketin...  \n",
      "5575       \"Stormy Dempsey\" <vqucsmdfgvsg@ruraltek.com>  \n",
      "5576         \"Christi T. Jernigan\" <dcube@totalink.net>  \n"
     ]
    }
   ],
   "source": [
    "spam.drop_duplicates(inplace=True)\n",
    "spam.dropna(inplace=True)\n",
    "\n",
    "print(f\"\\nTotal messages in the combined dataset: {spam.shape[0]}\")\n",
    "print(\"Dataset preview after combining:\")\n",
    "print(spam.head())"
   ]
  },
  {
   "cell_type": "code",
   "execution_count": null,
   "id": "f9e3c7c1",
   "metadata": {},
   "outputs": [
    {
     "name": "stdout",
     "output_type": "stream",
     "text": [
      "\n",
      "Starting fastest text preprocessing (no stemming)...\n",
      "Preprocessing complete.\n"
     ]
    }
   ],
   "source": [
    "from nltk.corpus import stopwords\n",
    "import re\n",
    "\n",
    "stop_words = set(stopwords.words('english'))\n",
    "\n",
    "def preprocess_text(message):\n",
    "    \"\"\"\n",
    "    A function to clean text by removing non-alphabetic characters,\n",
    "    stopwords, and converting to lowercase. Stemming is removed for performance.\n",
    "    \"\"\"\n",
    "    \n",
    "    review = re.sub('[^a-zA-Z]', ' ', message).lower()\n",
    "    \n",
    "    \n",
    "    review = review.split()\n",
    "    \n",
    "    \n",
    "    review = [word for word in review if word not in stop_words]\n",
    "    \n",
    "       \n",
    "    return ' '.join(review)\n",
    "\n",
    "print(\"\\nStarting fastest text preprocessing (no stemming)...\")\n",
    "corpus = spam['message'].apply(preprocess_text).tolist()\n",
    "print(\"Preprocessing complete.\")"
   ]
  },
  {
   "cell_type": "code",
   "execution_count": null,
   "id": "23aa2b72",
   "metadata": {},
   "outputs": [],
   "source": [
    "cv = CountVectorizer(max_features=4000)\n",
    "X = cv.fit_transform(corpus).toarray()\n",
    "Y = pd.get_dummies(spam['label'], drop_first=True).values.ravel() # Simplified label encoding\n",
    "\n"
   ]
  },
  {
   "cell_type": "code",
   "execution_count": null,
   "id": "7e5a58e2",
   "metadata": {},
   "outputs": [],
   "source": [
    "X_train, X_test, Y_train, Y_test = train_test_split(X, Y, test_size=0.20, random_state=42)\n",
    "\n"
   ]
  },
  {
   "cell_type": "code",
   "execution_count": null,
   "id": "9f04a6ce",
   "metadata": {},
   "outputs": [
    {
     "name": "stdout",
     "output_type": "stream",
     "text": [
      "\n",
      "--- Training Models on Combined Dataset ---\n"
     ]
    }
   ],
   "source": [
    "print(\"\\n--- Training Models on Combined Dataset ---\")"
   ]
  },
  {
   "cell_type": "code",
   "execution_count": 11,
   "id": "61561f8e",
   "metadata": {},
   "outputs": [
    {
     "name": "stdout",
     "output_type": "stream",
     "text": [
      "Random Forest training complete.\n",
      "Decision Tree training complete.\n",
      "Multinomial Naive Bayes training complete.\n"
     ]
    }
   ],
   "source": [
    "# Random Forest Classifier\n",
    "model1 = RandomForestClassifier()\n",
    "model1.fit(X_train, Y_train)\n",
    "print(\"Random Forest training complete.\")\n",
    "\n",
    "# Decision Tree Classifier\n",
    "model2 = DecisionTreeClassifier()\n",
    "model2.fit(X_train, Y_train)\n",
    "print(\"Decision Tree training complete.\")\n",
    "\n",
    "# Multinomial Naive Bayes\n",
    "model3 = MultinomialNB()\n",
    "model3.fit(X_train, Y_train)\n",
    "print(\"Multinomial Naive Bayes training complete.\")\n",
    "\n"
   ]
  },
  {
   "cell_type": "code",
   "execution_count": null,
   "id": "43936644",
   "metadata": {},
   "outputs": [
    {
     "name": "stdout",
     "output_type": "stream",
     "text": [
      "\n",
      "--- Model Evaluation Results ---\n"
     ]
    }
   ],
   "source": [
    "print(\"\\n--- Model Evaluation Results ---\")\n",
    "\n",
    "pred1 = model1.predict(X_test)\n",
    "pred2 = model2.predict(X_test)\n",
    "pred3 = model3.predict(X_test)\n"
   ]
  },
  {
   "cell_type": "code",
   "execution_count": null,
   "id": "ad5d9de2",
   "metadata": {},
   "outputs": [
    {
     "name": "stdout",
     "output_type": "stream",
     "text": [
      "\n",
      "Random Forest Classifier\n",
      "Confusion Matrix: \n",
      "[[4900   35]\n",
      " [  40 9314]]\n",
      "Accuracy:  0.9947512072223389\n",
      "Classification Report:\n",
      "               precision    recall  f1-score   support\n",
      "\n",
      "       False       0.99      0.99      0.99      4935\n",
      "        True       1.00      1.00      1.00      9354\n",
      "\n",
      "    accuracy                           0.99     14289\n",
      "   macro avg       0.99      0.99      0.99     14289\n",
      "weighted avg       0.99      0.99      0.99     14289\n",
      "\n",
      "------------------------------\n",
      "Decision Tree Classifier\n",
      "Confusion Matrix: \n",
      "[[4841   94]\n",
      " [  88 9266]]\n",
      "Accuracy:  0.987262929526209\n",
      "Classification Report:\n",
      "               precision    recall  f1-score   support\n",
      "\n",
      "       False       0.98      0.98      0.98      4935\n",
      "        True       0.99      0.99      0.99      9354\n",
      "\n",
      "    accuracy                           0.99     14289\n",
      "   macro avg       0.99      0.99      0.99     14289\n",
      "weighted avg       0.99      0.99      0.99     14289\n",
      "\n",
      "------------------------------\n",
      "Multinomial Naïve Bayes\n",
      "Confusion Matrix: \n",
      "[[4859   76]\n",
      " [2127 7227]]\n",
      "Accuracy:  0.8458254601441668\n",
      "Classification Report:\n",
      "               precision    recall  f1-score   support\n",
      "\n",
      "       False       0.70      0.98      0.82      4935\n",
      "        True       0.99      0.77      0.87      9354\n",
      "\n",
      "    accuracy                           0.85     14289\n",
      "   macro avg       0.84      0.88      0.84     14289\n",
      "weighted avg       0.89      0.85      0.85     14289\n",
      "\n"
     ]
    }
   ],
   "source": [
    "print(\"\\nRandom Forest Classifier\")\n",
    "print(\"Confusion Matrix: \")\n",
    "print(confusion_matrix(Y_test, pred1))\n",
    "print(\"Accuracy: \", accuracy_score(Y_test, pred1))\n",
    "print(\"Classification Report:\\n\", classification_report(Y_test, pred1))\n",
    "print(\"-\" * 30)\n",
    "\n",
    "print(\"Decision Tree Classifier\")\n",
    "print(\"Confusion Matrix: \")\n",
    "print(confusion_matrix(Y_test, pred2))\n",
    "print(\"Accuracy: \", accuracy_score(Y_test, pred2))\n",
    "print(\"Classification Report:\\n\", classification_report(Y_test, pred2))\n",
    "print(\"-\" * 30)\n",
    "\n",
    "print(\"Multinomial Naïve Bayes\")\n",
    "print(\"Confusion Matrix: \")\n",
    "print(confusion_matrix(Y_test, pred3))\n",
    "print(\"Accuracy: \", accuracy_score(Y_test, pred3))\n",
    "print(\"Classification Report:\\n\", classification_report(Y_test, pred3))\n"
   ]
  },
  {
   "cell_type": "code",
   "execution_count": null,
   "id": "2dfcdaeb",
   "metadata": {},
   "outputs": [
    {
     "data": {
      "image/png": "[encoded data removed]",
      "text/plain": [
       "<Figure size 600x400 with 2 Axes>"
      ]
     },
     "metadata": {},
     "output_type": "display_data"
    }
   ],
   "source": [
    "plt.figure(figsize=(6, 4))\n",
    "sns.heatmap(confusion_matrix(Y_test, pred3), annot=True, fmt='d', cmap='Blues')\n",
    "plt.title(\"Confusion Matrix - Multinomial Naive Bayes\")\n",
    "plt.xlabel(\"Predicted\")\n",
    "plt.ylabel(\"Actual\")\n",
    "plt.show()"
   ]
  },
  {
   "cell_type": "code",
   "execution_count": null,
   "id": "6981cb61",
   "metadata": {},
   "outputs": [
    {
     "name": "stdout",
     "output_type": "stream",
     "text": [
      "\n",
      "--- Saving Models and Vectorizer ---\n",
      "Saved all models successfully with '_combined' suffix.\n"
     ]
    }
   ],
   "source": [
    "print(\"\\n--- Saving Models and Vectorizer ---\")\n",
    "\n",
    "pickle.dump(model1, open(\"RFC_combined.pkl\", 'wb'))\n",
    "pickle.dump(model2, open(\"DTC_combined.pkl\", 'wb'))\n",
    "pickle.dump(model3, open(\"MNB_combined.pkl\", 'wb'))\n",
    "print(\"Saved all models successfully with '_combined' suffix.\")"
   ]
  },
  {
   "cell_type": "code",
   "execution_count": null,
   "id": "fefc0a08",
   "metadata": {},
   "outputs": [
    {
     "name": "stdout",
     "output_type": "stream",
     "text": [
      "Vectorizer saved successfully!\n"
     ]
    }
   ],
   "source": [
    "pickle.dump(cv, open(\"vectorizer_combined.pkl\", 'wb'))\n",
    "print(\"Vectorizer saved successfully!\")"
   ]
  },
  {
   "cell_type": "code",
   "execution_count": null,
   "id": "f58a4872",
   "metadata": {},
   "outputs": [],
   "source": []
  },
  {
   "cell_type": "code",
   "execution_count": null,
   "id": "b6d48690",
   "metadata": {},
   "outputs": [],
   "source": []
  }
 ],
 "metadata": {
  "kernelspec": {
   "display_name": "Python 3",
   "language": "python",
   "name": "python3"
  },
  "language_info": {
   "codemirror_mode": {
    "name": "ipython",
    "version": 3
   },
   "file_extension": ".py",
   "mimetype": "text/x-python",
   "name": "python",
   "nbconvert_exporter": "python",
   "pygments_lexer": "ipython3",
   "version": "3.12.4"
  }
 },
 "nbformat": 4,
 "nbformat_minor": 5
}
